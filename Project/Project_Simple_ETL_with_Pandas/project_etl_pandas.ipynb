{
 "cells": [
  {
   "cell_type": "code",
   "execution_count": 91,
   "metadata": {},
   "outputs": [
    {
     "name": "stdout",
     "output_type": "stream",
     "text": [
      "                         participant_id first_name   last_name   birth_date  \\\n",
      "0  bd9b6f88-b84f-4c4d-90f8-b67fe2f1a29a      Citra  Nurdiyanti  05 Feb 1991   \n",
      "1  7dfe3391-6f40-47b6-b4db-0c76ebaf5fc3       Aris    Setiawan  11 Jan 1993   \n",
      "2  19582d7f-b824-4fe5-a517-d5bf573fc768   Cornelia   Handayani  31 Jul 1993   \n",
      "3  aeb6d817-25f3-4867-8a74-8d92e0a0f633      Soleh      Rajasa  04 Nov 1991   \n",
      "4  1fdabdd9-5444-4c97-87b2-fe8833ad0d27       Vivi      Astuti  22 Jan 2003   \n",
      "\n",
      "                                             address        phone_number  \\\n",
      "0           Gg. Monginsidi No. 08\\nMedan, Aceh 80734     (0151) 081 2706   \n",
      "1     Gg. Rajawali Timur No. 7\\nPrabumulih, MA 09434  +62 (036) 461 7027   \n",
      "2             Jalan Kebonjati No. 0\\nAmbon, SS 57739        089 833 6695   \n",
      "3    Jl. Yos Sudarso No. 109\\nLubuklinggau, SR 76156  +62 (418) 329-4756   \n",
      "4  Jalan Gardujati No. 53\\nKediri, Sulawesi Tenga...          0812511835   \n",
      "\n",
      "       country                  institute                      occupation  \\\n",
      "0      Georgia       UD Prakasa Mandasari  Business Intelligence Engineer   \n",
      "1  Korea Utara     Universitas Diponegoro               Frontend Engineer   \n",
      "2       Komoro   UD Hardiansyah Puspasari                Business Analyst   \n",
      "3      Eritrea  Perum Tampubolon Yuliarti                 DevOps Engineer   \n",
      "4     Aljazair     PT Hardiansyah Rahimah                    Data Analyst   \n",
      "\n",
      "   register_time  \n",
      "0   1.617634e+09  \n",
      "1   1.617634e+09  \n",
      "2   1.617634e+09  \n",
      "3   1.617634e+09  \n",
      "4   1.617634e+09  \n"
     ]
    }
   ],
   "source": [
    "import pandas as pd\n",
    "df_participant = pd.read_csv('https://storage.googleapis.com/dqlab-dataset/dqthon-participants.csv')\n",
    "\n",
    "print(df_participant.head())"
   ]
  },
  {
   "attachments": {},
   "cell_type": "markdown",
   "metadata": {},
   "source": [
    "kode pos"
   ]
  },
  {
   "cell_type": "code",
   "execution_count": 110,
   "metadata": {},
   "outputs": [
    {
     "name": "stdout",
     "output_type": "stream",
     "text": [
      "                            participant_id first_name   last_name  \\\n",
      "0     bd9b6f88-b84f-4c4d-90f8-b67fe2f1a29a      Citra  Nurdiyanti   \n",
      "1     7dfe3391-6f40-47b6-b4db-0c76ebaf5fc3       Aris    Setiawan   \n",
      "2     19582d7f-b824-4fe5-a517-d5bf573fc768   Cornelia   Handayani   \n",
      "3     aeb6d817-25f3-4867-8a74-8d92e0a0f633      Soleh      Rajasa   \n",
      "4     1fdabdd9-5444-4c97-87b2-fe8833ad0d27       Vivi      Astuti   \n",
      "...                                    ...        ...         ...   \n",
      "4995  5f084245-58cb-4360-8cff-112f06f7214e      Mitra    Latupono   \n",
      "4996  fc6e142a-3f66-4330-9975-8c1dc7f9bb03      Indah   Rahmawati   \n",
      "4997  4521ff9f-4aec-401b-84aa-a4e6fc6549a4      Irsad    Najmudin   \n",
      "4998  1c91596e-427c-44a7-b7d0-974f44e18381      Carla    Nasyidah   \n",
      "4999  5d682e84-bcb5-43e9-8ce0-615364f5376a    Darmana     Maryadi   \n",
      "\n",
      "       birth_date                                            address  \\\n",
      "0     05 Feb 1991           Gg. Monginsidi No. 08\\nMedan, Aceh 80734   \n",
      "1     11 Jan 1993     Gg. Rajawali Timur No. 7\\nPrabumulih, MA 09434   \n",
      "2     31 Jul 1993             Jalan Kebonjati No. 0\\nAmbon, SS 57739   \n",
      "3     04 Nov 1991    Jl. Yos Sudarso No. 109\\nLubuklinggau, SR 76156   \n",
      "4     22 Jan 2003  Jalan Gardujati No. 53\\nKediri, Sulawesi Tenga...   \n",
      "...           ...                                                ...   \n",
      "4995  27 Apr 2000            Jl. Monginsidi No. 5\\nCirebon, BB 50268   \n",
      "4996  06 Mar 1996              Gang Joyoboyo No. 73\\nBogor, BT 57434   \n",
      "4997  14 Feb 2003   Jalan PHH. Mustofa No. 0\\nTanjungbalai, MU 95312   \n",
      "4998  22 Aug 1994  Jl. H.J Maemunah No. 955\\nManado, Kepulauan Ba...   \n",
      "4999  09 Feb 2002  Jalan Erlangga No. 76\\nBontang, Sulawesi Tengg...   \n",
      "\n",
      "             phone_number      country                            institute  \\\n",
      "0         (0151) 081 2706      Georgia                 UD Prakasa Mandasari   \n",
      "1      +62 (036) 461 7027  Korea Utara               Universitas Diponegoro   \n",
      "2            089 833 6695       Komoro             UD Hardiansyah Puspasari   \n",
      "3      +62 (418) 329-4756      Eritrea            Perum Tampubolon Yuliarti   \n",
      "4              0812511835     Aljazair               PT Hardiansyah Rahimah   \n",
      "...                   ...          ...                                  ...   \n",
      "4995   +62 (050) 795-8398     Hongaria  Institut Teknologi Sepuluh Nopember   \n",
      "4996  +62 (0443) 963 0055     Norwegia               CV Safitri Hastuti Tbk   \n",
      "4997  +62 (0408) 216-7689        Ghana   Universitas Katolik Widya Manadala   \n",
      "4998  +62 (0751) 380 3352       Gambia             CV Permadi (Persero) Tbk   \n",
      "4999   +62 (066) 414 8791    Singapura             Perum Laksita Kuswandari   \n",
      "\n",
      "                          occupation  register_time postal_code  \n",
      "0     Business Intelligence Engineer   1.617634e+09       80734  \n",
      "1                  Frontend Engineer   1.617634e+09       09434  \n",
      "2                   Business Analyst   1.617634e+09       57739  \n",
      "3                    DevOps Engineer   1.617634e+09       76156  \n",
      "4                       Data Analyst   1.617634e+09       70074  \n",
      "...                              ...            ...         ...  \n",
      "4995  Business Intelligence Engineer   1.617634e+09       50268  \n",
      "4996                   Data Engineer   1.617634e+09       57434  \n",
      "4997              Fullstack Engineer   1.617634e+09       95312  \n",
      "4998              Fullstack Engineer   1.617634e+09       80657  \n",
      "4999                 DevOps Engineer   1.617634e+09       41134  \n",
      "\n",
      "[5000 rows x 11 columns]\n"
     ]
    }
   ],
   "source": [
    "df_participant['postal_code'] = df_participant['address'].str.extract(r'(\\d+)$')\n",
    "print(df_participant)"
   ]
  },
  {
   "attachments": {},
   "cell_type": "markdown",
   "metadata": {},
   "source": [
    "kota"
   ]
  },
  {
   "cell_type": "code",
   "execution_count": 112,
   "metadata": {},
   "outputs": [],
   "source": [
    "df_participant['city'] = df_participant['address'].str.extract(r'(?<=\\n)(\\w.+)(?=,)')"
   ]
  },
  {
   "cell_type": "code",
   "execution_count": 114,
   "metadata": {},
   "outputs": [
    {
     "name": "stdout",
     "output_type": "stream",
     "text": [
      "                            participant_id first_name   last_name  \\\n",
      "0     bd9b6f88-b84f-4c4d-90f8-b67fe2f1a29a      Citra  Nurdiyanti   \n",
      "1     7dfe3391-6f40-47b6-b4db-0c76ebaf5fc3       Aris    Setiawan   \n",
      "2     19582d7f-b824-4fe5-a517-d5bf573fc768   Cornelia   Handayani   \n",
      "3     aeb6d817-25f3-4867-8a74-8d92e0a0f633      Soleh      Rajasa   \n",
      "4     1fdabdd9-5444-4c97-87b2-fe8833ad0d27       Vivi      Astuti   \n",
      "...                                    ...        ...         ...   \n",
      "4995  5f084245-58cb-4360-8cff-112f06f7214e      Mitra    Latupono   \n",
      "4996  fc6e142a-3f66-4330-9975-8c1dc7f9bb03      Indah   Rahmawati   \n",
      "4997  4521ff9f-4aec-401b-84aa-a4e6fc6549a4      Irsad    Najmudin   \n",
      "4998  1c91596e-427c-44a7-b7d0-974f44e18381      Carla    Nasyidah   \n",
      "4999  5d682e84-bcb5-43e9-8ce0-615364f5376a    Darmana     Maryadi   \n",
      "\n",
      "       birth_date                                            address  \\\n",
      "0     05 Feb 1991           Gg. Monginsidi No. 08\\nMedan, Aceh 80734   \n",
      "1     11 Jan 1993     Gg. Rajawali Timur No. 7\\nPrabumulih, MA 09434   \n",
      "2     31 Jul 1993             Jalan Kebonjati No. 0\\nAmbon, SS 57739   \n",
      "3     04 Nov 1991    Jl. Yos Sudarso No. 109\\nLubuklinggau, SR 76156   \n",
      "4     22 Jan 2003  Jalan Gardujati No. 53\\nKediri, Sulawesi Tenga...   \n",
      "...           ...                                                ...   \n",
      "4995  27 Apr 2000            Jl. Monginsidi No. 5\\nCirebon, BB 50268   \n",
      "4996  06 Mar 1996              Gang Joyoboyo No. 73\\nBogor, BT 57434   \n",
      "4997  14 Feb 2003   Jalan PHH. Mustofa No. 0\\nTanjungbalai, MU 95312   \n",
      "4998  22 Aug 1994  Jl. H.J Maemunah No. 955\\nManado, Kepulauan Ba...   \n",
      "4999  09 Feb 2002  Jalan Erlangga No. 76\\nBontang, Sulawesi Tengg...   \n",
      "\n",
      "             phone_number      country                            institute  \\\n",
      "0         (0151) 081 2706      Georgia                 UD Prakasa Mandasari   \n",
      "1      +62 (036) 461 7027  Korea Utara               Universitas Diponegoro   \n",
      "2            089 833 6695       Komoro             UD Hardiansyah Puspasari   \n",
      "3      +62 (418) 329-4756      Eritrea            Perum Tampubolon Yuliarti   \n",
      "4              0812511835     Aljazair               PT Hardiansyah Rahimah   \n",
      "...                   ...          ...                                  ...   \n",
      "4995   +62 (050) 795-8398     Hongaria  Institut Teknologi Sepuluh Nopember   \n",
      "4996  +62 (0443) 963 0055     Norwegia               CV Safitri Hastuti Tbk   \n",
      "4997  +62 (0408) 216-7689        Ghana   Universitas Katolik Widya Manadala   \n",
      "4998  +62 (0751) 380 3352       Gambia             CV Permadi (Persero) Tbk   \n",
      "4999   +62 (066) 414 8791    Singapura             Perum Laksita Kuswandari   \n",
      "\n",
      "                          occupation  register_time postal_code          city  \n",
      "0     Business Intelligence Engineer   1.617634e+09       80734         Medan  \n",
      "1                  Frontend Engineer   1.617634e+09       09434    Prabumulih  \n",
      "2                   Business Analyst   1.617634e+09       57739         Ambon  \n",
      "3                    DevOps Engineer   1.617634e+09       76156  Lubuklinggau  \n",
      "4                       Data Analyst   1.617634e+09       70074        Kediri  \n",
      "...                              ...            ...         ...           ...  \n",
      "4995  Business Intelligence Engineer   1.617634e+09       50268       Cirebon  \n",
      "4996                   Data Engineer   1.617634e+09       57434         Bogor  \n",
      "4997              Fullstack Engineer   1.617634e+09       95312  Tanjungbalai  \n",
      "4998              Fullstack Engineer   1.617634e+09       80657        Manado  \n",
      "4999                 DevOps Engineer   1.617634e+09       41134       Bontang  \n",
      "\n",
      "[5000 rows x 12 columns]\n"
     ]
    }
   ],
   "source": [
    "print(df_participant)"
   ]
  },
  {
   "attachments": {},
   "cell_type": "markdown",
   "metadata": {},
   "source": [
    "Transform Bagian III - Github"
   ]
  },
  {
   "cell_type": "code",
   "execution_count": 116,
   "metadata": {},
   "outputs": [
    {
     "name": "stdout",
     "output_type": "stream",
     "text": [
      "                            participant_id first_name   last_name  \\\n",
      "0     bd9b6f88-b84f-4c4d-90f8-b67fe2f1a29a      Citra  Nurdiyanti   \n",
      "1     7dfe3391-6f40-47b6-b4db-0c76ebaf5fc3       Aris    Setiawan   \n",
      "2     19582d7f-b824-4fe5-a517-d5bf573fc768   Cornelia   Handayani   \n",
      "3     aeb6d817-25f3-4867-8a74-8d92e0a0f633      Soleh      Rajasa   \n",
      "4     1fdabdd9-5444-4c97-87b2-fe8833ad0d27       Vivi      Astuti   \n",
      "...                                    ...        ...         ...   \n",
      "4995  5f084245-58cb-4360-8cff-112f06f7214e      Mitra    Latupono   \n",
      "4996  fc6e142a-3f66-4330-9975-8c1dc7f9bb03      Indah   Rahmawati   \n",
      "4997  4521ff9f-4aec-401b-84aa-a4e6fc6549a4      Irsad    Najmudin   \n",
      "4998  1c91596e-427c-44a7-b7d0-974f44e18381      Carla    Nasyidah   \n",
      "4999  5d682e84-bcb5-43e9-8ce0-615364f5376a    Darmana     Maryadi   \n",
      "\n",
      "       birth_date                                            address  \\\n",
      "0     05 Feb 1991           Gg. Monginsidi No. 08\\nMedan, Aceh 80734   \n",
      "1     11 Jan 1993     Gg. Rajawali Timur No. 7\\nPrabumulih, MA 09434   \n",
      "2     31 Jul 1993             Jalan Kebonjati No. 0\\nAmbon, SS 57739   \n",
      "3     04 Nov 1991    Jl. Yos Sudarso No. 109\\nLubuklinggau, SR 76156   \n",
      "4     22 Jan 2003  Jalan Gardujati No. 53\\nKediri, Sulawesi Tenga...   \n",
      "...           ...                                                ...   \n",
      "4995  27 Apr 2000            Jl. Monginsidi No. 5\\nCirebon, BB 50268   \n",
      "4996  06 Mar 1996              Gang Joyoboyo No. 73\\nBogor, BT 57434   \n",
      "4997  14 Feb 2003   Jalan PHH. Mustofa No. 0\\nTanjungbalai, MU 95312   \n",
      "4998  22 Aug 1994  Jl. H.J Maemunah No. 955\\nManado, Kepulauan Ba...   \n",
      "4999  09 Feb 2002  Jalan Erlangga No. 76\\nBontang, Sulawesi Tengg...   \n",
      "\n",
      "             phone_number      country                            institute  \\\n",
      "0         (0151) 081 2706      Georgia                 UD Prakasa Mandasari   \n",
      "1      +62 (036) 461 7027  Korea Utara               Universitas Diponegoro   \n",
      "2            089 833 6695       Komoro             UD Hardiansyah Puspasari   \n",
      "3      +62 (418) 329-4756      Eritrea            Perum Tampubolon Yuliarti   \n",
      "4              0812511835     Aljazair               PT Hardiansyah Rahimah   \n",
      "...                   ...          ...                                  ...   \n",
      "4995   +62 (050) 795-8398     Hongaria  Institut Teknologi Sepuluh Nopember   \n",
      "4996  +62 (0443) 963 0055     Norwegia               CV Safitri Hastuti Tbk   \n",
      "4997  +62 (0408) 216-7689        Ghana   Universitas Katolik Widya Manadala   \n",
      "4998  +62 (0751) 380 3352       Gambia             CV Permadi (Persero) Tbk   \n",
      "4999   +62 (066) 414 8791    Singapura             Perum Laksita Kuswandari   \n",
      "\n",
      "                          occupation  register_time postal_code          city  \\\n",
      "0     Business Intelligence Engineer   1.617634e+09       80734         Medan   \n",
      "1                  Frontend Engineer   1.617634e+09       09434    Prabumulih   \n",
      "2                   Business Analyst   1.617634e+09       57739         Ambon   \n",
      "3                    DevOps Engineer   1.617634e+09       76156  Lubuklinggau   \n",
      "4                       Data Analyst   1.617634e+09       70074        Kediri   \n",
      "...                              ...            ...         ...           ...   \n",
      "4995  Business Intelligence Engineer   1.617634e+09       50268       Cirebon   \n",
      "4996                   Data Engineer   1.617634e+09       57434         Bogor   \n",
      "4997              Fullstack Engineer   1.617634e+09       95312  Tanjungbalai   \n",
      "4998              Fullstack Engineer   1.617634e+09       80657        Manado   \n",
      "4999                 DevOps Engineer   1.617634e+09       41134       Bontang   \n",
      "\n",
      "                            github_profile  \n",
      "0       https://github.com/citranurdiyanti  \n",
      "1          https://github.com/arissetiawan  \n",
      "2     https://github.com/corneliahandayani  \n",
      "3           https://github.com/solehrajasa  \n",
      "4            https://github.com/viviastuti  \n",
      "...                                    ...  \n",
      "4995      https://github.com/mitralatupono  \n",
      "4996     https://github.com/indahrahmawati  \n",
      "4997      https://github.com/irsadnajmudin  \n",
      "4998      https://github.com/carlanasyidah  \n",
      "4999     https://github.com/darmanamaryadi  \n",
      "\n",
      "[5000 rows x 13 columns]\n"
     ]
    }
   ],
   "source": [
    "df_participant['github_profile'] = 'https://github.com/' + df_participant['first_name'].str.lower() + df_participant['last_name'].str.lower()\n",
    "print(df_participant)"
   ]
  },
  {
   "attachments": {},
   "cell_type": "markdown",
   "metadata": {},
   "source": [
    "Transform Bagian IV - Nomor Handphone"
   ]
  },
  {
   "cell_type": "code",
   "execution_count": 122,
   "metadata": {},
   "outputs": [
    {
     "name": "stdout",
     "output_type": "stream",
     "text": [
      "                            participant_id first_name   last_name  \\\n",
      "0     bd9b6f88-b84f-4c4d-90f8-b67fe2f1a29a      Citra  Nurdiyanti   \n",
      "1     7dfe3391-6f40-47b6-b4db-0c76ebaf5fc3       Aris    Setiawan   \n",
      "2     19582d7f-b824-4fe5-a517-d5bf573fc768   Cornelia   Handayani   \n",
      "3     aeb6d817-25f3-4867-8a74-8d92e0a0f633      Soleh      Rajasa   \n",
      "4     1fdabdd9-5444-4c97-87b2-fe8833ad0d27       Vivi      Astuti   \n",
      "...                                    ...        ...         ...   \n",
      "4995  5f084245-58cb-4360-8cff-112f06f7214e      Mitra    Latupono   \n",
      "4996  fc6e142a-3f66-4330-9975-8c1dc7f9bb03      Indah   Rahmawati   \n",
      "4997  4521ff9f-4aec-401b-84aa-a4e6fc6549a4      Irsad    Najmudin   \n",
      "4998  1c91596e-427c-44a7-b7d0-974f44e18381      Carla    Nasyidah   \n",
      "4999  5d682e84-bcb5-43e9-8ce0-615364f5376a    Darmana     Maryadi   \n",
      "\n",
      "       birth_date                                            address  \\\n",
      "0     05 Feb 1991           Gg. Monginsidi No. 08\\nMedan, Aceh 80734   \n",
      "1     11 Jan 1993     Gg. Rajawali Timur No. 7\\nPrabumulih, MA 09434   \n",
      "2     31 Jul 1993             Jalan Kebonjati No. 0\\nAmbon, SS 57739   \n",
      "3     04 Nov 1991    Jl. Yos Sudarso No. 109\\nLubuklinggau, SR 76156   \n",
      "4     22 Jan 2003  Jalan Gardujati No. 53\\nKediri, Sulawesi Tenga...   \n",
      "...           ...                                                ...   \n",
      "4995  27 Apr 2000            Jl. Monginsidi No. 5\\nCirebon, BB 50268   \n",
      "4996  06 Mar 1996              Gang Joyoboyo No. 73\\nBogor, BT 57434   \n",
      "4997  14 Feb 2003   Jalan PHH. Mustofa No. 0\\nTanjungbalai, MU 95312   \n",
      "4998  22 Aug 1994  Jl. H.J Maemunah No. 955\\nManado, Kepulauan Ba...   \n",
      "4999  09 Feb 2002  Jalan Erlangga No. 76\\nBontang, Sulawesi Tengg...   \n",
      "\n",
      "             phone_number      country                            institute  \\\n",
      "0         (0151) 081 2706      Georgia                 UD Prakasa Mandasari   \n",
      "1      +62 (036) 461 7027  Korea Utara               Universitas Diponegoro   \n",
      "2            089 833 6695       Komoro             UD Hardiansyah Puspasari   \n",
      "3      +62 (418) 329-4756      Eritrea            Perum Tampubolon Yuliarti   \n",
      "4              0812511835     Aljazair               PT Hardiansyah Rahimah   \n",
      "...                   ...          ...                                  ...   \n",
      "4995   +62 (050) 795-8398     Hongaria  Institut Teknologi Sepuluh Nopember   \n",
      "4996  +62 (0443) 963 0055     Norwegia               CV Safitri Hastuti Tbk   \n",
      "4997  +62 (0408) 216-7689        Ghana   Universitas Katolik Widya Manadala   \n",
      "4998  +62 (0751) 380 3352       Gambia             CV Permadi (Persero) Tbk   \n",
      "4999   +62 (066) 414 8791    Singapura             Perum Laksita Kuswandari   \n",
      "\n",
      "                          occupation  register_time postal_code          city  \\\n",
      "0     Business Intelligence Engineer   1.617634e+09       80734         Medan   \n",
      "1                  Frontend Engineer   1.617634e+09       09434    Prabumulih   \n",
      "2                   Business Analyst   1.617634e+09       57739         Ambon   \n",
      "3                    DevOps Engineer   1.617634e+09       76156  Lubuklinggau   \n",
      "4                       Data Analyst   1.617634e+09       70074        Kediri   \n",
      "...                              ...            ...         ...           ...   \n",
      "4995  Business Intelligence Engineer   1.617634e+09       50268       Cirebon   \n",
      "4996                   Data Engineer   1.617634e+09       57434         Bogor   \n",
      "4997              Fullstack Engineer   1.617634e+09       95312  Tanjungbalai   \n",
      "4998              Fullstack Engineer   1.617634e+09       80657        Manado   \n",
      "4999                 DevOps Engineer   1.617634e+09       41134       Bontang   \n",
      "\n",
      "                            github_profile cleaned_phone_number  \n",
      "0       https://github.com/citranurdiyanti          01510812706  \n",
      "1          https://github.com/arissetiawan          00364617027  \n",
      "2     https://github.com/corneliahandayani           0898336695  \n",
      "3           https://github.com/solehrajasa          04183294756  \n",
      "4            https://github.com/viviastuti           0812511835  \n",
      "...                                    ...                  ...  \n",
      "4995      https://github.com/mitralatupono          00507958398  \n",
      "4996     https://github.com/indahrahmawati         004439630055  \n",
      "4997      https://github.com/irsadnajmudin         004082167689  \n",
      "4998      https://github.com/carlanasyidah         007513803352  \n",
      "4999     https://github.com/darmanamaryadi          00664148791  \n",
      "\n",
      "[5000 rows x 14 columns]\n"
     ]
    },
    {
     "name": "stderr",
     "output_type": "stream",
     "text": [
      "/tmp/ipykernel_1659/42820309.py:1: FutureWarning: The default value of regex will change from True to False in a future version.\n",
      "  df_participant['cleaned_phone_number'] = df_participant['phone_number'].str.replace(r'^(\\+62|62)','0')\n",
      "/tmp/ipykernel_1659/42820309.py:2: FutureWarning: The default value of regex will change from True to False in a future version.\n",
      "  df_participant['cleaned_phone_number'] = df_participant['cleaned_phone_number'].str.replace(r'[()-]','')\n",
      "/tmp/ipykernel_1659/42820309.py:3: FutureWarning: The default value of regex will change from True to False in a future version.\n",
      "  df_participant['cleaned_phone_number'] = df_participant['cleaned_phone_number'].str.replace(r'\\s+','')\n"
     ]
    }
   ],
   "source": [
    "df_participant['cleaned_phone_number'] = df_participant['phone_number'].str.replace(r'^(\\+62|62)','0')\n",
    "df_participant['cleaned_phone_number'] = df_participant['cleaned_phone_number'].str.replace(r'[()-]','')\n",
    "df_participant['cleaned_phone_number'] = df_participant['cleaned_phone_number'].str.replace(r'\\s+','')\n",
    "print(df_participant)"
   ]
  },
  {
   "attachments": {},
   "cell_type": "markdown",
   "metadata": {},
   "source": [
    "Transform Bagian V - Nama Tim"
   ]
  },
  {
   "cell_type": "code",
   "execution_count": null,
   "metadata": {},
   "outputs": [],
   "source": []
  }
 ],
 "metadata": {
  "kernelspec": {
   "display_name": "env_dqlab",
   "language": "python",
   "name": "python3"
  },
  "language_info": {
   "codemirror_mode": {
    "name": "ipython",
    "version": 3
   },
   "file_extension": ".py",
   "mimetype": "text/x-python",
   "name": "python",
   "nbconvert_exporter": "python",
   "pygments_lexer": "ipython3",
   "version": "3.10.6"
  },
  "orig_nbformat": 4
 },
 "nbformat": 4,
 "nbformat_minor": 2
}
