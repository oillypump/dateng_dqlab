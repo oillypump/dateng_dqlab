{
 "cells": [
  {
   "attachments": {},
   "cell_type": "markdown",
   "metadata": {},
   "source": [
    "### Data Science in Telco Data Cleansing"
   ]
  },
  {
   "attachments": {},
   "cell_type": "markdown",
   "metadata": {},
   "source": [
    "#### Import Library dan Dataset"
   ]
  },
  {
   "cell_type": "code",
   "execution_count": 3,
   "metadata": {},
   "outputs": [
    {
     "name": "stdout",
     "output_type": "stream",
     "text": [
      "(7113, 22)\n",
      "   UpdatedAt   customerID  gender  SeniorCitizen Partner Dependents  tenure  \\\n",
      "0     202006  45759018157  Female              0     Yes         No     1.0   \n",
      "1     202006  45557574145    Male              0      No         No    34.0   \n",
      "2     202006  45366876421    Male              0      No         No     2.0   \n",
      "3     202006  45779536532    Male              0      No         No    45.0   \n",
      "4     202006  45923787906  Female              0      No         No     2.0   \n",
      "\n",
      "  PhoneService     MultipleLines InternetService OnlineSecurity OnlineBackup  \\\n",
      "0           No  No phone service             DSL             No          Yes   \n",
      "1          Yes                No             DSL            Yes           No   \n",
      "2          Yes                No             DSL            Yes          Yes   \n",
      "3           No  No phone service             DSL            Yes           No   \n",
      "4          Yes                No     Fiber optic             No           No   \n",
      "\n",
      "  DeviceProtection TechSupport StreamingTV StreamingMovies        Contract  \\\n",
      "0               No          No          No              No  Month-to-month   \n",
      "1              Yes          No          No              No        One year   \n",
      "2               No          No          No              No  Month-to-month   \n",
      "3              Yes         Yes          No              No        One year   \n",
      "4               No          No          No              No  Month-to-month   \n",
      "\n",
      "  PaperlessBilling              PaymentMethod  MonthlyCharges  TotalCharges  \\\n",
      "0              Yes           Electronic check           29.85         29.85   \n",
      "1               No               Mailed check           56.95       1889.50   \n",
      "2              Yes               Mailed check           53.85        108.15   \n",
      "3               No  Bank transfer (automatic)           42.30       1840.75   \n",
      "4              Yes           Electronic check           70.70        151.65   \n",
      "\n",
      "  Churn  \n",
      "0    No  \n",
      "1    No  \n",
      "2   Yes  \n",
      "3    No  \n",
      "4   Yes  \n",
      "7017\n"
     ]
    }
   ],
   "source": [
    "import pandas as pd\n",
    "pd.options.display.max_columns = 50\n",
    "\n",
    "#import dataset\n",
    "df_load = pd.read_csv('https://dqlab-dataset.s3-ap-southeast-1.amazonaws.com/dqlab_telco.csv')\n",
    "\n",
    "#Tampilkan jumlah baris dan kolom\n",
    "print(df_load.shape)\n",
    "\n",
    "#Tampilkan 5 data teratas\n",
    "print(df_load.head(5))\n",
    "\n",
    "#Jumlah ID yang unik\n",
    "print(df_load.customerID.nunique())"
   ]
  },
  {
   "attachments": {},
   "cell_type": "markdown",
   "metadata": {},
   "source": [
    "#### Memfilter ID Number Pelanggan Format Tertentu"
   ]
  },
  {
   "cell_type": "code",
   "execution_count": 4,
   "metadata": {},
   "outputs": [
    {
     "name": "stdout",
     "output_type": "stream",
     "text": [
      "Hasil jumlah ID Customer yang terfilter adlah 7006\n"
     ]
    }
   ],
   "source": [
    "df_load['valid_id'] = df_load['customerID'].astype(str).str.match(r'(45\\d{9,10})')\n",
    "df_load = (df_load[df_load['valid_id'] == True]).drop('valid_id', axis = 1)\n",
    "print('Hasil jumlah ID Customer yang terfilter adlah', df_load['customerID'].count())"
   ]
  },
  {
   "attachments": {},
   "cell_type": "markdown",
   "metadata": {},
   "source": [
    "#### Memfilter Duplikasi ID Number Pelanggan"
   ]
  },
  {
   "cell_type": "code",
   "execution_count": null,
   "metadata": {},
   "outputs": [],
   "source": [
    "# Drop Duplicate Rows\n",
    "df_load.drop_duplicates()\n",
    "# Drop duplicate ID sorted by Periode\n",
    "df_load = df_load.sort_values('UpdatedAt', ascending=False).drop_duplicates(['customerID'])\n",
    "print('Hasil jumlah ID Customer yang sudah dihilangkan duplikasinya (distinct) adalah',df_load['customerID'].count())"
   ]
  },
  {
   "attachments": {},
   "cell_type": "markdown",
   "metadata": {},
   "source": [
    "#### Mengatasi Missing Values dengan Penghapusan Rows"
   ]
  },
  {
   "cell_type": "code",
   "execution_count": null,
   "metadata": {},
   "outputs": [],
   "source": [
    "print('Total missing values data dari kolom Churn', df_load['Churn'].isnull().sum())\n",
    "df_load.dropna(subset=['Churn'],inplace=True)\n",
    "print('Total Rows dan kolom Data setelah dihapus data Missing Values adalah',df_load.shape)"
   ]
  },
  {
   "attachments": {},
   "cell_type": "markdown",
   "metadata": {},
   "source": [
    "#### Mengatasi Missing Values dengan Pengisian Nilai tertentu"
   ]
  },
  {
   "cell_type": "code",
   "execution_count": null,
   "metadata": {},
   "outputs": [],
   "source": [
    "print('Status Missing Values :',df_load.isnull().values.any())\n",
    "print('\\nJumlah Missing Values masing-masing kolom, adalah:')\n",
    "print(df_load.isnull().sum().sort_values(ascending=False))\n",
    "\n",
    "#handling missing values Tenure fill with 11\n",
    "df_load['tenure'].fillna(11, inplace=True)\n",
    "\n",
    "#Loop\n",
    "#Handling missing values num vars (except Tenure)\n",
    "for col_name in list(['MonthlyCharges', 'TotalCharges']):\n",
    "    median = df_load[col_name].median()\n",
    "    df_load[col_name].fillna(median, inplace=True)\n",
    "\n",
    "print('\\nJumlah Missing Values setelah di imputer datanya, adalah:')\n",
    "print(df_load.isnull().sum().sort_values(ascending=False))"
   ]
  },
  {
   "attachments": {},
   "cell_type": "markdown",
   "metadata": {},
   "source": [
    "#### Mendeteksi adanya Outlier (Boxplot)"
   ]
  },
  {
   "cell_type": "code",
   "execution_count": null,
   "metadata": {},
   "outputs": [],
   "source": [
    "print('\\nPersebaran data sebelum ditangani Outlier: ')\n",
    "print(df_load[['tenure','MonthlyCharges','TotalCharges']].describe())\n",
    "\n",
    "# Creating Box Plot\n",
    "import matplotlib.pyplot as plt\n",
    "import seaborn as sns\n",
    "\n",
    "# Misal untuk kolom tenure\n",
    "plt.figure()\n",
    "sns.boxplot(x=df_load['tenure'])\n",
    "plt.show()\n",
    "# dan seterusnya untuk kedua kolom yang tersisa secara berurut\n",
    "plt.figure()\n",
    "sns.boxplot(x=df_load['MonthlyCharges'])\n",
    "plt.show()\n",
    "plt.figure()\n",
    "sns.boxplot(x=df_load['TotalCharges'])\n",
    "plt.show()\n"
   ]
  },
  {
   "attachments": {},
   "cell_type": "markdown",
   "metadata": {},
   "source": [
    "#### Mengatasi Outlier"
   ]
  },
  {
   "cell_type": "code",
   "execution_count": null,
   "metadata": {},
   "outputs": [],
   "source": [
    "Q1 = (df_load[['tenure','MonthlyCharges','TotalCharges']]).quantile(0.25)\n",
    "Q3 = (df_load[['tenure','MonthlyCharges','TotalCharges']]).quantile(0.75)\n",
    "\n",
    "IQR = Q3 - Q1\n",
    "maximum = Q3 + (1.5*IQR)\n",
    "print('Nilai Maximum dari masing-masing Variable adalah: ')\n",
    "print(maximum)\n",
    "minimum = Q1 - (1.5*IQR)\n",
    "print('\\nNilai Minimum dari masing-masing Variable adalah: ')\n",
    "print(minimum)\n",
    "\n",
    "more_than = (df_load > maximum)\n",
    "lower_than = (df_load < minimum)\n",
    "df_load = df_load.mask(more_than, maximum, axis=1)\n",
    "df_load = df_load.mask(lower_than, minimum, axis=1)\n",
    "\n",
    "print('\\nPersebaran data setelah ditangani Outlier: ')\n",
    "print(df_load[['tenure','MonthlyCharges','TotalCharges']].describe())\n"
   ]
  },
  {
   "attachments": {},
   "cell_type": "markdown",
   "metadata": {},
   "source": [
    "#### Mendeteksi Nilai yang tidak Standar"
   ]
  },
  {
   "cell_type": "code",
   "execution_count": null,
   "metadata": {},
   "outputs": [],
   "source": [
    "for col_name in list(['gender','SeniorCitizen','Partner','Dependents','PhoneService','MultipleLines','InternetService','OnlineSecurity','OnlineBackup','DeviceProtection','TechSupport','StreamingTV','StreamingMovies','Contract','PaperlessBilling','PaymentMethod','Churn']):\n",
    "\tprint('\\nUnique Values Count \\033[1m' + 'Before Standardized \\033[0m Variable',col_name)\n",
    "\tprint(df_load[col_name].value_counts())"
   ]
  },
  {
   "attachments": {},
   "cell_type": "markdown",
   "metadata": {},
   "source": [
    "#### Menstandarisasi Variable Kategorik"
   ]
  },
  {
   "cell_type": "code",
   "execution_count": 23,
   "metadata": {},
   "outputs": [
    {
     "name": "stdout",
     "output_type": "stream",
     "text": [
      "\n",
      "Unique Values Count \u001b[1mAfter Standardized \u001b[0mVariable gender\n",
      "Male      3505\n",
      "Female    3445\n",
      "Name: gender, dtype: int64\n",
      "\n",
      "Unique Values Count \u001b[1mAfter Standardized \u001b[0mVariable Dependents\n",
      "No     4870\n",
      "Yes    2080\n",
      "Name: Dependents, dtype: int64\n",
      "\n",
      "Unique Values Count \u001b[1mAfter Standardized \u001b[0mVariable Churn\n",
      "No     5114\n",
      "Yes    1836\n",
      "Name: Churn, dtype: int64\n"
     ]
    }
   ],
   "source": [
    "df_load = df_load.replace(['Wanita','Laki-Laki','Churn','Iya'],['Female','Male','Yes','Yes'])\n",
    "\n",
    "# Masukkan variable\n",
    "for col_name in list(['gender','Dependents','Churn']):\n",
    "\tprint('\\nUnique Values Count \\033[1m' + 'After Standardized \\033[0mVariable',col_name)\n",
    "\tprint(df_load[col_name].value_counts())"
   ]
  }
 ],
 "metadata": {
  "kernelspec": {
   "display_name": "env_dqlab",
   "language": "python",
   "name": "python3"
  },
  "language_info": {
   "codemirror_mode": {
    "name": "ipython",
    "version": 3
   },
   "file_extension": ".py",
   "mimetype": "text/x-python",
   "name": "python",
   "nbconvert_exporter": "python",
   "pygments_lexer": "ipython3",
   "version": "3.10.6"
  },
  "orig_nbformat": 4
 },
 "nbformat": 4,
 "nbformat_minor": 2
}
